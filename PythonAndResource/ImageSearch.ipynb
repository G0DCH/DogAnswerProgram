{
 "cells": [
  {
   "cell_type": "code",
   "execution_count": 1,
   "metadata": {},
   "outputs": [],
   "source": [
    "import ImageSearch as IS"
   ]
  },
  {
   "cell_type": "code",
   "execution_count": 2,
   "metadata": {},
   "outputs": [
    {
     "name": "stderr",
     "output_type": "stream",
     "text": [
      "100%|███████████████████████████████████████████████████████████████████████████████| 216/216 [00:00<00:00, 434.87it/s]\n"
     ]
    }
   ],
   "source": [
    "IS.run()"
   ]
  },
  {
   "cell_type": "code",
   "execution_count": 3,
   "metadata": {},
   "outputs": [
    {
     "name": "stdout",
     "output_type": "stream",
     "text": [
      "Index(['Golden Retriever', 'Mammal', 'Dog', 'Canine', 'Animal', 'Pet', 'Flame',\n",
      "       'Fire', 'Bonfire', 'Puppy', 'Wolf', 'Red Wolf', 'Coyote', 'Wildlife',\n",
      "       'Jaguar', 'Leopard', 'Panther', 'White Dog', 'Eskimo Dog', 'Husky',\n",
      "       'Cat', 'Doctor', 'Veterinarian', 'Floor', 'Wood', 'Hardwood',\n",
      "       'Flooring', 'Arctic Fox', 'Fox', 'Human', 'Person', 'Clinic',\n",
      "       'Furniture', 'Chair', 'Operating Theatre', 'Hospital'],\n",
      "      dtype='object')\n"
     ]
    }
   ],
   "source": [
    "IS.SearchImage('풀밭 위의 시베리언 허스키')"
   ]
  },
  {
   "cell_type": "code",
   "execution_count": 4,
   "metadata": {},
   "outputs": [
    {
     "data": {
      "text/plain": [
       "'Siberian Husky without people'"
      ]
     },
     "execution_count": 4,
     "metadata": {},
     "output_type": "execute_result"
    }
   ],
   "source": [
    "IS.TranslateQuery('사람이 없는 시베리안 허스키')"
   ]
  },
  {
   "cell_type": "raw",
   "metadata": {},
   "source": []
  }
 ],
 "metadata": {
  "kernelspec": {
   "display_name": "Python 3",
   "language": "python",
   "name": "python3"
  },
  "language_info": {
   "codemirror_mode": {
    "name": "ipython",
    "version": 3
   },
   "file_extension": ".py",
   "mimetype": "text/x-python",
   "name": "python",
   "nbconvert_exporter": "python",
   "pygments_lexer": "ipython3",
   "version": "3.8.0"
  }
 },
 "nbformat": 4,
 "nbformat_minor": 4
}
