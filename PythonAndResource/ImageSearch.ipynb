{
 "cells": [
  {
   "cell_type": "code",
   "execution_count": 1,
   "metadata": {},
   "outputs": [],
   "source": [
    "import ImageSearch as IS"
   ]
  },
  {
   "cell_type": "code",
   "execution_count": 2,
   "metadata": {},
   "outputs": [
    {
     "name": "stderr",
     "output_type": "stream",
     "text": [
      "100%|███████████████████████████████████████████████████████████████████████████████| 216/216 [00:00<00:00, 433.16it/s]\n"
     ]
    }
   ],
   "source": [
    "IS.run()"
   ]
  },
  {
   "cell_type": "code",
   "execution_count": 3,
   "metadata": {},
   "outputs": [],
   "source": [
    "result = IS.SearchImage('사람과 시베리안 허스키')"
   ]
  },
  {
   "cell_type": "code",
   "execution_count": 4,
   "metadata": {},
   "outputs": [
    {
     "data": {
      "text/plain": [
       "[['시베리언 허스키_16'],\n",
       " ['man',\n",
       "  'military_man',\n",
       "  'adult_male',\n",
       "  'homo',\n",
       "  'valet_de_chambre',\n",
       "  'humans',\n",
       "  'human',\n",
       "  'mankind',\n",
       "  'serviceman',\n",
       "  'military_personnel',\n",
       "  'piece',\n",
       "  'human_race',\n",
       "  'human_being',\n",
       "  'human_beings',\n",
       "  \"gentleman's_gentleman\",\n",
       "  'gentleman',\n",
       "  'valet',\n",
       "  'Man',\n",
       "  'Isle_of_Man',\n",
       "  'humankind',\n",
       "  'world',\n",
       "  'humanity'],\n",
       " 'man and']"
      ]
     },
     "execution_count": 4,
     "metadata": {},
     "output_type": "execute_result"
    }
   ],
   "source": [
    "result"
   ]
  },
  {
   "cell_type": "code",
   "execution_count": 5,
   "metadata": {},
   "outputs": [],
   "source": [
    "a = IS.SearchImage('시베리안 허스키')"
   ]
  },
  {
   "cell_type": "code",
   "execution_count": 6,
   "metadata": {
    "scrolled": true
   },
   "outputs": [
    {
     "data": {
      "text/plain": [
       "[['시베리언 허스키_16'],\n",
       " ['someone', 'individual', 'person', 'mortal', 'soul', 'somebody'],\n",
       " 'without people']"
      ]
     },
     "execution_count": 6,
     "metadata": {},
     "output_type": "execute_result"
    }
   ],
   "source": [
    "IS.SearchImage('사람이 없는 시베리안 허스키')"
   ]
  },
  {
   "cell_type": "code",
   "execution_count": 7,
   "metadata": {},
   "outputs": [
    {
     "data": {
      "text/plain": [
       "Golden Retriever      0.000000\n",
       "Mammal               99.475685\n",
       "Dog                  99.475685\n",
       "Canine               99.475685\n",
       "Animal               99.475685\n",
       "Pet                  99.475685\n",
       "Flame                 0.000000\n",
       "Fire                  0.000000\n",
       "Bonfire               0.000000\n",
       "Puppy                56.031372\n",
       "Wolf                  0.000000\n",
       "Red Wolf              0.000000\n",
       "Coyote                0.000000\n",
       "Wildlife              0.000000\n",
       "Jaguar                0.000000\n",
       "Leopard               0.000000\n",
       "Panther               0.000000\n",
       "White Dog             0.000000\n",
       "Eskimo Dog           73.319962\n",
       "Husky                99.475685\n",
       "Cat                   0.000000\n",
       "Doctor                0.000000\n",
       "Veterinarian          0.000000\n",
       "Floor                 0.000000\n",
       "Wood                  0.000000\n",
       "Hardwood              0.000000\n",
       "Flooring              0.000000\n",
       "Arctic Fox            0.000000\n",
       "Fox                   0.000000\n",
       "Human                75.973846\n",
       "Person               75.973846\n",
       "Clinic                0.000000\n",
       "Furniture             0.000000\n",
       "Chair                 0.000000\n",
       "Operating Theatre     0.000000\n",
       "Hospital              0.000000\n",
       "Name: 시베리언 허스키_16, dtype: float64"
      ]
     },
     "execution_count": 7,
     "metadata": {},
     "output_type": "execute_result"
    }
   ],
   "source": [
    "IS.nameTableMap['시베리언 허스키']['시베리언 허스키_16']"
   ]
  },
  {
   "cell_type": "code",
   "execution_count": null,
   "metadata": {},
   "outputs": [],
   "source": []
  }
 ],
 "metadata": {
  "kernelspec": {
   "display_name": "Python 3",
   "language": "python",
   "name": "python3"
  },
  "language_info": {
   "codemirror_mode": {
    "name": "ipython",
    "version": 3
   },
   "file_extension": ".py",
   "mimetype": "text/x-python",
   "name": "python",
   "nbconvert_exporter": "python",
   "pygments_lexer": "ipython3",
   "version": "3.8.0"
  }
 },
 "nbformat": 4,
 "nbformat_minor": 4
}
